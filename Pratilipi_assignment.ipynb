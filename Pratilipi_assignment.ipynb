{
 "cells": [
  {
   "cell_type": "code",
   "execution_count": 1,
   "id": "6a4a08b1",
   "metadata": {},
   "outputs": [],
   "source": [
    "# import libraries\n",
    "import pandas as pd\n",
    "import numpy as np\n",
    "import matplotlib.pyplot as plt\n",
    "import seaborn as sns"
   ]
  },
  {
   "cell_type": "code",
   "execution_count": 2,
   "id": "d741aa1b",
   "metadata": {},
   "outputs": [],
   "source": [
    "# reading dataset using only columns which are really important\n",
    "df_meta = pd.read_csv('metadata.csv', usecols=['author_id','pratilipi_id','category_name','reading_time'])\n",
    "df_user = pd.read_csv('user-interactions.csv', usecols= ['user_id', 'pratilipi_id', 'read_percent'])"
   ]
  },
  {
   "cell_type": "code",
   "execution_count": 41,
   "id": "c01aca90",
   "metadata": {},
   "outputs": [
    {
     "data": {
      "text/html": [
       "<div>\n",
       "<style scoped>\n",
       "    .dataframe tbody tr th:only-of-type {\n",
       "        vertical-align: middle;\n",
       "    }\n",
       "\n",
       "    .dataframe tbody tr th {\n",
       "        vertical-align: top;\n",
       "    }\n",
       "\n",
       "    .dataframe thead th {\n",
       "        text-align: right;\n",
       "    }\n",
       "</style>\n",
       "<table border=\"1\" class=\"dataframe\">\n",
       "  <thead>\n",
       "    <tr style=\"text-align: right;\">\n",
       "      <th></th>\n",
       "      <th>user_id</th>\n",
       "      <th>pratilipi_id</th>\n",
       "      <th>read_percent</th>\n",
       "    </tr>\n",
       "  </thead>\n",
       "  <tbody>\n",
       "    <tr>\n",
       "      <th>0</th>\n",
       "      <td>5506791963854965</td>\n",
       "      <td>1377786220672965</td>\n",
       "      <td>100.0</td>\n",
       "    </tr>\n",
       "    <tr>\n",
       "      <th>3</th>\n",
       "      <td>5506791988747277</td>\n",
       "      <td>1377786224767880</td>\n",
       "      <td>100.0</td>\n",
       "    </tr>\n",
       "    <tr>\n",
       "      <th>4</th>\n",
       "      <td>5506791992372558</td>\n",
       "      <td>1377786218111595</td>\n",
       "      <td>100.0</td>\n",
       "    </tr>\n",
       "    <tr>\n",
       "      <th>5</th>\n",
       "      <td>5506791984769052</td>\n",
       "      <td>1377786221730720</td>\n",
       "      <td>100.0</td>\n",
       "    </tr>\n",
       "    <tr>\n",
       "      <th>6</th>\n",
       "      <td>5506791980825783</td>\n",
       "      <td>1377786227076616</td>\n",
       "      <td>100.0</td>\n",
       "    </tr>\n",
       "  </tbody>\n",
       "</table>\n",
       "</div>"
      ],
      "text/plain": [
       "            user_id      pratilipi_id  read_percent\n",
       "0  5506791963854965  1377786220672965         100.0\n",
       "3  5506791988747277  1377786224767880         100.0\n",
       "4  5506791992372558  1377786218111595         100.0\n",
       "5  5506791984769052  1377786221730720         100.0\n",
       "6  5506791980825783  1377786227076616         100.0"
      ]
     },
     "execution_count": 41,
     "metadata": {},
     "output_type": "execute_result"
    }
   ],
   "source": [
    "df_user.head()"
   ]
  },
  {
   "cell_type": "code",
   "execution_count": 3,
   "id": "61f5f8ce",
   "metadata": {},
   "outputs": [],
   "source": [
    "#considring famous books only since datset is already too large\n",
    "df_meta = df_meta.loc[df_meta['reading_time']>=1000]"
   ]
  },
  {
   "cell_type": "code",
   "execution_count": 4,
   "id": "29c04851",
   "metadata": {},
   "outputs": [],
   "source": [
    "df_meta = df_meta.sort_values(by='reading_time')"
   ]
  },
  {
   "cell_type": "code",
   "execution_count": 5,
   "id": "dabfb3be",
   "metadata": {},
   "outputs": [
    {
     "data": {
      "text/html": [
       "<div>\n",
       "<style scoped>\n",
       "    .dataframe tbody tr th:only-of-type {\n",
       "        vertical-align: middle;\n",
       "    }\n",
       "\n",
       "    .dataframe tbody tr th {\n",
       "        vertical-align: top;\n",
       "    }\n",
       "\n",
       "    .dataframe thead th {\n",
       "        text-align: right;\n",
       "    }\n",
       "</style>\n",
       "<table border=\"1\" class=\"dataframe\">\n",
       "  <thead>\n",
       "    <tr style=\"text-align: right;\">\n",
       "      <th></th>\n",
       "      <th>author_id</th>\n",
       "      <th>pratilipi_id</th>\n",
       "      <th>category_name</th>\n",
       "      <th>reading_time</th>\n",
       "    </tr>\n",
       "  </thead>\n",
       "  <tbody>\n",
       "    <tr>\n",
       "      <th>516481</th>\n",
       "      <td>-2270332332743399</td>\n",
       "      <td>1377786226671520</td>\n",
       "      <td>moral-inspiring</td>\n",
       "      <td>1000</td>\n",
       "    </tr>\n",
       "    <tr>\n",
       "      <th>396105</th>\n",
       "      <td>-2270332334418083</td>\n",
       "      <td>1377786224409031</td>\n",
       "      <td>romance</td>\n",
       "      <td>1000</td>\n",
       "    </tr>\n",
       "    <tr>\n",
       "      <th>218775</th>\n",
       "      <td>-2270332345997468</td>\n",
       "      <td>1377786223507765</td>\n",
       "      <td>family</td>\n",
       "      <td>1000</td>\n",
       "    </tr>\n",
       "    <tr>\n",
       "      <th>331591</th>\n",
       "      <td>-3428527958586737</td>\n",
       "      <td>1377786220003449</td>\n",
       "      <td>romance</td>\n",
       "      <td>1000</td>\n",
       "    </tr>\n",
       "    <tr>\n",
       "      <th>429862</th>\n",
       "      <td>-2270332326956164</td>\n",
       "      <td>1377786226193497</td>\n",
       "      <td>romance</td>\n",
       "      <td>1000</td>\n",
       "    </tr>\n",
       "  </tbody>\n",
       "</table>\n",
       "</div>"
      ],
      "text/plain": [
       "               author_id      pratilipi_id    category_name  reading_time\n",
       "516481 -2270332332743399  1377786226671520  moral-inspiring          1000\n",
       "396105 -2270332334418083  1377786224409031          romance          1000\n",
       "218775 -2270332345997468  1377786223507765           family          1000\n",
       "331591 -3428527958586737  1377786220003449          romance          1000\n",
       "429862 -2270332326956164  1377786226193497          romance          1000"
      ]
     },
     "execution_count": 5,
     "metadata": {},
     "output_type": "execute_result"
    }
   ],
   "source": [
    "df_meta.head()"
   ]
  },
  {
   "cell_type": "code",
   "execution_count": 83,
   "id": "5d02df55",
   "metadata": {},
   "outputs": [
    {
     "data": {
      "text/plain": [
       "romance                      11148\n",
       "novels                        5691\n",
       "suspense                      5048\n",
       "social                        3170\n",
       "family                        2740\n",
       "action-and-adventure          1671\n",
       "women                         1531\n",
       "horror                        1367\n",
       "entertainment                 1101\n",
       "shortstories                  1082\n",
       "life                          1035\n",
       "moral-inspiring                996\n",
       "webseries                      672\n",
       "Pratilipi-kalamkar-samman      572\n",
       "fantasy                        499\n",
       "comedy                         451\n",
       "mythology                      441\n",
       "Pratilipi-Awards-Hindi         439\n",
       "Indiawale                      389\n",
       "drama                          343\n",
       "experiences-and-memories       306\n",
       "crime                          278\n",
       "relegion-and-spiritual         271\n",
       "politics                       205\n",
       "murder-mystery                 194\n",
       "translation                    183\n",
       "swahindi2                      161\n",
       "science-fiction                158\n",
       "detective                      153\n",
       "crime-lekhan                   150\n",
       "children                       107\n",
       "Horror-Marathon                 93\n",
       "Serieswriting                   80\n",
       "premkamahina                    63\n",
       "The-Chat-Story                  45\n",
       "Parytan                         36\n",
       "krishi-jeevan                   30\n",
       "short-story-challenge           29\n",
       "pratilipi-kids                  17\n",
       "pravasi-sahitya                 17\n",
       "Radio-Fiction                   17\n",
       "health-and-wellness             17\n",
       "cyber-crime-fiction             11\n",
       "erotica                          8\n",
       "Rashtriya                        5\n",
       "Name: category_name, dtype: int64"
      ]
     },
     "execution_count": 83,
     "metadata": {},
     "output_type": "execute_result"
    }
   ],
   "source": [
    "df_meta.category_name.value_counts()"
   ]
  },
  {
   "cell_type": "code",
   "execution_count": 91,
   "id": "3aff25d4",
   "metadata": {},
   "outputs": [
    {
     "data": {
      "image/png": "[encoded data removed]",
      "text/plain": [
       "<Figure size 720x432 with 1 Axes>"
      ]
     },
     "metadata": {
      "needs_background": "light"
     },
     "output_type": "display_data"
    }
   ],
   "source": [
    "plt.figure(figsize=(10,6))\n",
    "sns.countplot(x='category_name', data = df_meta, palette='pastel')\n",
    "plt.xticks(rotation=90)\n",
    "plt.show()"
   ]
  },
  {
   "cell_type": "code",
   "execution_count": 6,
   "id": "9baa32ad",
   "metadata": {},
   "outputs": [],
   "source": [
    "#considering user only who read the entire book\n",
    "df_user = df_user.loc[df_user['read_percent']==100.0]"
   ]
  },
  {
   "cell_type": "code",
   "execution_count": 7,
   "id": "32eeecc6",
   "metadata": {},
   "outputs": [
    {
     "data": {
      "text/plain": [
       "((8702791, 3), (43020, 4))"
      ]
     },
     "execution_count": 7,
     "metadata": {},
     "output_type": "execute_result"
    }
   ],
   "source": [
    "df_user.shape, df_meta.shape"
   ]
  },
  {
   "cell_type": "code",
   "execution_count": 8,
   "id": "ce5f2413",
   "metadata": {},
   "outputs": [
    {
     "data": {
      "text/plain": [
       "(1229343, 6)"
      ]
     },
     "execution_count": 8,
     "metadata": {},
     "output_type": "execute_result"
    }
   ],
   "source": [
    "#merging both the dataset\n",
    "df = df_meta.merge(df_user, on='pratilipi_id', how = 'inner')\n",
    "df.shape"
   ]
  },
  {
   "cell_type": "code",
   "execution_count": 65,
   "id": "6b099496",
   "metadata": {},
   "outputs": [
    {
     "data": {
      "text/html": [
       "<div>\n",
       "<style scoped>\n",
       "    .dataframe tbody tr th:only-of-type {\n",
       "        vertical-align: middle;\n",
       "    }\n",
       "\n",
       "    .dataframe tbody tr th {\n",
       "        vertical-align: top;\n",
       "    }\n",
       "\n",
       "    .dataframe thead th {\n",
       "        text-align: right;\n",
       "    }\n",
       "</style>\n",
       "<table border=\"1\" class=\"dataframe\">\n",
       "  <thead>\n",
       "    <tr style=\"text-align: right;\">\n",
       "      <th></th>\n",
       "      <th>pratilipi_id</th>\n",
       "      <th>category_name</th>\n",
       "    </tr>\n",
       "  </thead>\n",
       "  <tbody>\n",
       "    <tr>\n",
       "      <th>0</th>\n",
       "      <td>-868854658328888</td>\n",
       "      <td>suspense</td>\n",
       "    </tr>\n",
       "    <tr>\n",
       "      <th>1</th>\n",
       "      <td>-862730317031736</td>\n",
       "      <td>social</td>\n",
       "    </tr>\n",
       "    <tr>\n",
       "      <th>2</th>\n",
       "      <td>-844691134572856</td>\n",
       "      <td>shortstories suspense horror</td>\n",
       "    </tr>\n",
       "    <tr>\n",
       "      <th>3</th>\n",
       "      <td>-843753303402808</td>\n",
       "      <td>social romance</td>\n",
       "    </tr>\n",
       "    <tr>\n",
       "      <th>4</th>\n",
       "      <td>-821302225365304</td>\n",
       "      <td>romance social</td>\n",
       "    </tr>\n",
       "    <tr>\n",
       "      <th>5</th>\n",
       "      <td>-805561288190264</td>\n",
       "      <td>social</td>\n",
       "    </tr>\n",
       "    <tr>\n",
       "      <th>6</th>\n",
       "      <td>-793460789831992</td>\n",
       "      <td>romance</td>\n",
       "    </tr>\n",
       "    <tr>\n",
       "      <th>7</th>\n",
       "      <td>-774778583869752</td>\n",
       "      <td>social</td>\n",
       "    </tr>\n",
       "    <tr>\n",
       "      <th>8</th>\n",
       "      <td>-731837801261368</td>\n",
       "      <td>romance</td>\n",
       "    </tr>\n",
       "    <tr>\n",
       "      <th>9</th>\n",
       "      <td>-727142821095736</td>\n",
       "      <td>shortstories romance moral-inspiring</td>\n",
       "    </tr>\n",
       "  </tbody>\n",
       "</table>\n",
       "</div>"
      ],
      "text/plain": [
       "      pratilipi_id                         category_name\n",
       "0 -868854658328888                              suspense\n",
       "1 -862730317031736                                social\n",
       "2 -844691134572856          shortstories suspense horror\n",
       "3 -843753303402808                        social romance\n",
       "4 -821302225365304                        romance social\n",
       "5 -805561288190264                                social\n",
       "6 -793460789831992                               romance\n",
       "7 -774778583869752                                social\n",
       "8 -731837801261368                               romance\n",
       "9 -727142821095736  shortstories romance moral-inspiring"
      ]
     },
     "execution_count": 65,
     "metadata": {},
     "output_type": "execute_result"
    }
   ],
   "source": [
    "#since most of pratilipies have different categories at different row that's why grouping them and joining the categories\n",
    "#this is for content based recommendations in our use case category_name based recommendations\n",
    "temp = df.groupby('pratilipi_id').agg({'category_name': lambda x: ' '.join(set(x))}).reset_index()\n",
    "temp.head(10)"
   ]
  },
  {
   "cell_type": "code",
   "execution_count": 66,
   "id": "9c7482d2",
   "metadata": {},
   "outputs": [
    {
     "data": {
      "text/html": [
       "<div>\n",
       "<style scoped>\n",
       "    .dataframe tbody tr th:only-of-type {\n",
       "        vertical-align: middle;\n",
       "    }\n",
       "\n",
       "    .dataframe tbody tr th {\n",
       "        vertical-align: top;\n",
       "    }\n",
       "\n",
       "    .dataframe thead th {\n",
       "        text-align: right;\n",
       "    }\n",
       "</style>\n",
       "<table border=\"1\" class=\"dataframe\">\n",
       "  <thead>\n",
       "    <tr style=\"text-align: right;\">\n",
       "      <th></th>\n",
       "      <th>pratilipi_id</th>\n",
       "      <th>user_id</th>\n",
       "      <th>author_id</th>\n",
       "      <th>category_name</th>\n",
       "    </tr>\n",
       "  </thead>\n",
       "  <tbody>\n",
       "    <tr>\n",
       "      <th>0</th>\n",
       "      <td>-868854658328888</td>\n",
       "      <td>5506791955529201</td>\n",
       "      <td>-2882685197546865</td>\n",
       "      <td>suspense</td>\n",
       "    </tr>\n",
       "    <tr>\n",
       "      <th>1</th>\n",
       "      <td>-868854658328888</td>\n",
       "      <td>5506791993547868</td>\n",
       "      <td>-2882685197546865</td>\n",
       "      <td>suspense</td>\n",
       "    </tr>\n",
       "    <tr>\n",
       "      <th>2</th>\n",
       "      <td>-868854658328888</td>\n",
       "      <td>5506791995219032</td>\n",
       "      <td>-2882685197546865</td>\n",
       "      <td>suspense</td>\n",
       "    </tr>\n",
       "    <tr>\n",
       "      <th>3</th>\n",
       "      <td>-868854658328888</td>\n",
       "      <td>5506791995230274</td>\n",
       "      <td>-2882685197546865</td>\n",
       "      <td>suspense</td>\n",
       "    </tr>\n",
       "    <tr>\n",
       "      <th>4</th>\n",
       "      <td>-868854658328888</td>\n",
       "      <td>5506791995256459</td>\n",
       "      <td>-2882685197546865</td>\n",
       "      <td>suspense</td>\n",
       "    </tr>\n",
       "    <tr>\n",
       "      <th>5</th>\n",
       "      <td>-868854658328888</td>\n",
       "      <td>5506791995295105</td>\n",
       "      <td>-2882685197546865</td>\n",
       "      <td>suspense</td>\n",
       "    </tr>\n",
       "    <tr>\n",
       "      <th>6</th>\n",
       "      <td>-868854658328888</td>\n",
       "      <td>5506791995316845</td>\n",
       "      <td>-2882685197546865</td>\n",
       "      <td>suspense</td>\n",
       "    </tr>\n",
       "    <tr>\n",
       "      <th>7</th>\n",
       "      <td>-868854658328888</td>\n",
       "      <td>5506791995320587</td>\n",
       "      <td>-2882685197546865</td>\n",
       "      <td>suspense</td>\n",
       "    </tr>\n",
       "    <tr>\n",
       "      <th>8</th>\n",
       "      <td>-868854658328888</td>\n",
       "      <td>5506791995322336</td>\n",
       "      <td>-2882685197546865</td>\n",
       "      <td>suspense</td>\n",
       "    </tr>\n",
       "    <tr>\n",
       "      <th>9</th>\n",
       "      <td>-868854658328888</td>\n",
       "      <td>5506791995354618</td>\n",
       "      <td>-2882685197546865</td>\n",
       "      <td>suspense</td>\n",
       "    </tr>\n",
       "  </tbody>\n",
       "</table>\n",
       "</div>"
      ],
      "text/plain": [
       "      pratilipi_id           user_id         author_id category_name\n",
       "0 -868854658328888  5506791955529201 -2882685197546865      suspense\n",
       "1 -868854658328888  5506791993547868 -2882685197546865      suspense\n",
       "2 -868854658328888  5506791995219032 -2882685197546865      suspense\n",
       "3 -868854658328888  5506791995230274 -2882685197546865      suspense\n",
       "4 -868854658328888  5506791995256459 -2882685197546865      suspense\n",
       "5 -868854658328888  5506791995295105 -2882685197546865      suspense\n",
       "6 -868854658328888  5506791995316845 -2882685197546865      suspense\n",
       "7 -868854658328888  5506791995320587 -2882685197546865      suspense\n",
       "8 -868854658328888  5506791995322336 -2882685197546865      suspense\n",
       "9 -868854658328888  5506791995354618 -2882685197546865      suspense"
      ]
     },
     "execution_count": 66,
     "metadata": {},
     "output_type": "execute_result"
    }
   ],
   "source": [
    "# creating another dataframe for collabrative filtering recommendations here we are considering users \n",
    "temp2 = df.groupby(['pratilipi_id', 'user_id', 'author_id']).agg({'category_name': lambda x: ' '.join(set(x))}).reset_index()\n",
    "temp2.head(10)"
   ]
  },
  {
   "cell_type": "code",
   "execution_count": 67,
   "id": "ff6a9a4f",
   "metadata": {},
   "outputs": [],
   "source": [
    "#choosing first 100k rows\n",
    "tm_df = temp.loc[:100000]"
   ]
  },
  {
   "cell_type": "code",
   "execution_count": 80,
   "id": "4bbe21ae",
   "metadata": {},
   "outputs": [
    {
     "data": {
      "text/html": [
       "<div>\n",
       "<style scoped>\n",
       "    .dataframe tbody tr th:only-of-type {\n",
       "        vertical-align: middle;\n",
       "    }\n",
       "\n",
       "    .dataframe tbody tr th {\n",
       "        vertical-align: top;\n",
       "    }\n",
       "\n",
       "    .dataframe thead th {\n",
       "        text-align: right;\n",
       "    }\n",
       "</style>\n",
       "<table border=\"1\" class=\"dataframe\">\n",
       "  <thead>\n",
       "    <tr style=\"text-align: right;\">\n",
       "      <th></th>\n",
       "      <th>pratilipi_id</th>\n",
       "      <th>category_name</th>\n",
       "    </tr>\n",
       "  </thead>\n",
       "  <tbody>\n",
       "    <tr>\n",
       "      <th>11940</th>\n",
       "      <td>1377786228056119</td>\n",
       "      <td>Indiawale romance suspense</td>\n",
       "    </tr>\n",
       "  </tbody>\n",
       "</table>\n",
       "</div>"
      ],
      "text/plain": [
       "           pratilipi_id               category_name\n",
       "11940  1377786228056119  Indiawale romance suspense"
      ]
     },
     "execution_count": 80,
     "metadata": {},
     "output_type": "execute_result"
    }
   ],
   "source": [
    "tm_df.sample()"
   ]
  },
  {
   "cell_type": "code",
   "execution_count": 68,
   "id": "42a56b9f",
   "metadata": {},
   "outputs": [],
   "source": [
    "#count vectorerizer to create vector\n",
    "from sklearn.feature_extraction.text import CountVectorizer\n",
    "cv = CountVectorizer(max_features=50,stop_words='english')"
   ]
  },
  {
   "cell_type": "code",
   "execution_count": 69,
   "id": "f009e696",
   "metadata": {},
   "outputs": [],
   "source": [
    "vector = cv.fit_transform(tm_df['category_name']).toarray()"
   ]
  },
  {
   "cell_type": "code",
   "execution_count": 70,
   "id": "baef2928",
   "metadata": {},
   "outputs": [
    {
     "data": {
      "text/plain": [
       "array([0, 0, 0, 0, 0, 0, 0, 0, 0, 0, 0, 0, 0, 0, 0, 0, 0, 0, 0, 0, 0, 0,\n",
       "       0, 0, 0, 0, 0, 0, 0, 0, 0, 0, 0, 0, 0, 0, 0, 0, 0, 0, 0, 0, 0, 0,\n",
       "       0, 1, 0, 0, 0, 0], dtype=int64)"
      ]
     },
     "execution_count": 70,
     "metadata": {},
     "output_type": "execute_result"
    }
   ],
   "source": [
    "vector[0]"
   ]
  },
  {
   "cell_type": "code",
   "execution_count": 71,
   "id": "0d99ec65",
   "metadata": {},
   "outputs": [],
   "source": [
    "# cosine similarity to get similarity between vectors\n",
    "from sklearn.metrics.pairwise import cosine_similarity"
   ]
  },
  {
   "cell_type": "code",
   "execution_count": 72,
   "id": "b498a771",
   "metadata": {},
   "outputs": [],
   "source": [
    "similarity = cosine_similarity(vector)"
   ]
  },
  {
   "cell_type": "code",
   "execution_count": 73,
   "id": "86f8cc62",
   "metadata": {},
   "outputs": [
    {
     "data": {
      "text/plain": [
       "array([1.        , 0.        , 0.57735027, ..., 0.        , 0.        ,\n",
       "       0.        ])"
      ]
     },
     "execution_count": 73,
     "metadata": {},
     "output_type": "execute_result"
    }
   ],
   "source": [
    "similarity[0]"
   ]
  },
  {
   "cell_type": "code",
   "execution_count": 77,
   "id": "117ad65a",
   "metadata": {},
   "outputs": [],
   "source": [
    "#function to recoomend based on books a user watch category_based filtering \n",
    "def recommend(book_id):\n",
    "    tem_lst = []\n",
    "    index = tm_df[tm_df['pratilipi_id'] == book_id].index[0]\n",
    "    distances = sorted(list(enumerate(similarity[index])),reverse=True,key = lambda x: x[1])\n",
    "    for i in distances[1:6]:\n",
    "        tem_lst.append(tm_df.iloc[i[0]].pratilipi_id)\n",
    "    return tem_lst"
   ]
  },
  {
   "cell_type": "code",
   "execution_count": 81,
   "id": "ab329331",
   "metadata": {},
   "outputs": [
    {
     "name": "stdout",
     "output_type": "stream",
     "text": [
      "[1377786224559030, 1377786224824649, 1377786225003004, 1377786225526545, 1377786225607351]\n"
     ]
    }
   ],
   "source": [
    "rec_lst = recommend(1377786228056119)\n",
    "print(rec_lst)"
   ]
  },
  {
   "cell_type": "code",
   "execution_count": 82,
   "id": "71c648d0",
   "metadata": {},
   "outputs": [
    {
     "data": {
      "text/html": [
       "<div>\n",
       "<style scoped>\n",
       "    .dataframe tbody tr th:only-of-type {\n",
       "        vertical-align: middle;\n",
       "    }\n",
       "\n",
       "    .dataframe tbody tr th {\n",
       "        vertical-align: top;\n",
       "    }\n",
       "\n",
       "    .dataframe thead th {\n",
       "        text-align: right;\n",
       "    }\n",
       "</style>\n",
       "<table border=\"1\" class=\"dataframe\">\n",
       "  <thead>\n",
       "    <tr style=\"text-align: right;\">\n",
       "      <th></th>\n",
       "      <th>pratilipi_id</th>\n",
       "      <th>category_name</th>\n",
       "    </tr>\n",
       "  </thead>\n",
       "  <tbody>\n",
       "    <tr>\n",
       "      <th>8185</th>\n",
       "      <td>1377786224559030</td>\n",
       "      <td>Indiawale suspense romance</td>\n",
       "    </tr>\n",
       "    <tr>\n",
       "      <th>8484</th>\n",
       "      <td>1377786224824649</td>\n",
       "      <td>Indiawale romance suspense</td>\n",
       "    </tr>\n",
       "    <tr>\n",
       "      <th>8676</th>\n",
       "      <td>1377786225003004</td>\n",
       "      <td>Indiawale romance suspense</td>\n",
       "    </tr>\n",
       "    <tr>\n",
       "      <th>9310</th>\n",
       "      <td>1377786225526545</td>\n",
       "      <td>Indiawale suspense romance</td>\n",
       "    </tr>\n",
       "    <tr>\n",
       "      <th>9421</th>\n",
       "      <td>1377786225607351</td>\n",
       "      <td>Indiawale suspense romance</td>\n",
       "    </tr>\n",
       "  </tbody>\n",
       "</table>\n",
       "</div>"
      ],
      "text/plain": [
       "          pratilipi_id               category_name\n",
       "8185  1377786224559030  Indiawale suspense romance\n",
       "8484  1377786224824649  Indiawale romance suspense\n",
       "8676  1377786225003004  Indiawale romance suspense\n",
       "9310  1377786225526545  Indiawale suspense romance\n",
       "9421  1377786225607351  Indiawale suspense romance"
      ]
     },
     "execution_count": 82,
     "metadata": {},
     "output_type": "execute_result"
    }
   ],
   "source": [
    "#recommended pratilipies dataframe for better understanding \n",
    "tm_df[tm_df['pratilipi_id'].isin(rec_lst)]"
   ]
  },
  {
   "cell_type": "code",
   "execution_count": 22,
   "id": "deeebce5",
   "metadata": {},
   "outputs": [],
   "source": [
    "#considering 100k rows since the dataset is too large to computer similarity\n",
    "tm_df2 = temp2.loc[:30000]"
   ]
  },
  {
   "cell_type": "code",
   "execution_count": 23,
   "id": "e9bf9d92",
   "metadata": {},
   "outputs": [],
   "source": [
    "vector2 = cv.fit_transform(tm_df2['category_name']).toarray()"
   ]
  },
  {
   "cell_type": "code",
   "execution_count": 24,
   "id": "9f19b54a",
   "metadata": {},
   "outputs": [],
   "source": [
    "similarity = cosine_similarity(vector2)"
   ]
  },
  {
   "cell_type": "code",
   "execution_count": 25,
   "id": "5b79cc18",
   "metadata": {},
   "outputs": [
    {
     "data": {
      "text/plain": [
       "(30001, 30001)"
      ]
     },
     "execution_count": 25,
     "metadata": {},
     "output_type": "execute_result"
    }
   ],
   "source": [
    "similarity.shape"
   ]
  },
  {
   "cell_type": "code",
   "execution_count": 26,
   "id": "8c4a7a51",
   "metadata": {},
   "outputs": [],
   "source": [
    "#function to recommend pratilipies based on similar users read pratilipies.   \n",
    "def recommend2(user_id):\n",
    "    usr_lst= []\n",
    "    book_lst = set()\n",
    "    index = tm_df2[tm_df2['user_id'] == user_id].index[0]\n",
    "    distances = sorted(list(enumerate(similarity[index])),reverse=True,key = lambda x: x[1])\n",
    "    for i in distances[1:]:\n",
    "        if len(book_lst) < 5:\n",
    "            sim_users = tm_df2.iloc[i[0]].user_id\n",
    "            usr_lst.append(sim_users)\n",
    "            for j in usr_lst:\n",
    "                k = tm_df2[tm_df2['user_id']==j]['pratilipi_id'].values[0]\n",
    "                book_lst.add(k)\n",
    "    return list(book_lst)\n",
    "#     print(usr_lst)"
   ]
  },
  {
   "cell_type": "code",
   "execution_count": 38,
   "id": "a4f7cb23",
   "metadata": {},
   "outputs": [
    {
     "data": {
      "text/html": [
       "<div>\n",
       "<style scoped>\n",
       "    .dataframe tbody tr th:only-of-type {\n",
       "        vertical-align: middle;\n",
       "    }\n",
       "\n",
       "    .dataframe tbody tr th {\n",
       "        vertical-align: top;\n",
       "    }\n",
       "\n",
       "    .dataframe thead th {\n",
       "        text-align: right;\n",
       "    }\n",
       "</style>\n",
       "<table border=\"1\" class=\"dataframe\">\n",
       "  <thead>\n",
       "    <tr style=\"text-align: right;\">\n",
       "      <th></th>\n",
       "      <th>pratilipi_id</th>\n",
       "      <th>user_id</th>\n",
       "      <th>author_id</th>\n",
       "      <th>category_name</th>\n",
       "    </tr>\n",
       "  </thead>\n",
       "  <tbody>\n",
       "    <tr>\n",
       "      <th>18912</th>\n",
       "      <td>1377786216331554</td>\n",
       "      <td>5506791964756353</td>\n",
       "      <td>-2270332348764612</td>\n",
       "      <td>The-Chat-Story Parytan romance</td>\n",
       "    </tr>\n",
       "  </tbody>\n",
       "</table>\n",
       "</div>"
      ],
      "text/plain": [
       "           pratilipi_id           user_id         author_id  \\\n",
       "18912  1377786216331554  5506791964756353 -2270332348764612   \n",
       "\n",
       "                        category_name  \n",
       "18912  The-Chat-Story Parytan romance  "
      ]
     },
     "execution_count": 38,
     "metadata": {},
     "output_type": "execute_result"
    }
   ],
   "source": [
    "tm_df2.sample()"
   ]
  },
  {
   "cell_type": "code",
   "execution_count": 39,
   "id": "c19fe9ab",
   "metadata": {},
   "outputs": [
    {
     "name": "stdout",
     "output_type": "stream",
     "text": [
      "[1377786216331554, 1114522134943432, 979877554722504, 1377786215757175, 1377786216312666]\n"
     ]
    }
   ],
   "source": [
    "rec_lst2 = recommend2(5506791964756353)\n",
    "print(rec_lst2)"
   ]
  },
  {
   "cell_type": "code",
   "execution_count": 40,
   "id": "062a735d",
   "metadata": {},
   "outputs": [
    {
     "data": {
      "text/html": [
       "<div>\n",
       "<style scoped>\n",
       "    .dataframe tbody tr th:only-of-type {\n",
       "        vertical-align: middle;\n",
       "    }\n",
       "\n",
       "    .dataframe tbody tr th {\n",
       "        vertical-align: top;\n",
       "    }\n",
       "\n",
       "    .dataframe thead th {\n",
       "        text-align: right;\n",
       "    }\n",
       "</style>\n",
       "<table border=\"1\" class=\"dataframe\">\n",
       "  <thead>\n",
       "    <tr style=\"text-align: right;\">\n",
       "      <th></th>\n",
       "      <th>pratilipi_id</th>\n",
       "      <th>user_id</th>\n",
       "      <th>author_id</th>\n",
       "      <th>category_name</th>\n",
       "    </tr>\n",
       "  </thead>\n",
       "  <tbody>\n",
       "    <tr>\n",
       "      <th>6639</th>\n",
       "      <td>979877554722504</td>\n",
       "      <td>3280684228977316</td>\n",
       "      <td>-3678460257170801</td>\n",
       "      <td>social romance</td>\n",
       "    </tr>\n",
       "    <tr>\n",
       "      <th>6640</th>\n",
       "      <td>979877554722504</td>\n",
       "      <td>3332846191551140</td>\n",
       "      <td>-3678460257170801</td>\n",
       "      <td>social romance</td>\n",
       "    </tr>\n",
       "    <tr>\n",
       "      <th>6641</th>\n",
       "      <td>979877554722504</td>\n",
       "      <td>3453645753852580</td>\n",
       "      <td>-3678460257170801</td>\n",
       "      <td>social romance</td>\n",
       "    </tr>\n",
       "    <tr>\n",
       "      <th>6642</th>\n",
       "      <td>979877554722504</td>\n",
       "      <td>3523322783376036</td>\n",
       "      <td>-3678460257170801</td>\n",
       "      <td>social romance</td>\n",
       "    </tr>\n",
       "    <tr>\n",
       "      <th>6643</th>\n",
       "      <td>979877554722504</td>\n",
       "      <td>3595524319388324</td>\n",
       "      <td>-3678460257170801</td>\n",
       "      <td>social romance</td>\n",
       "    </tr>\n",
       "    <tr>\n",
       "      <th>...</th>\n",
       "      <td>...</td>\n",
       "      <td>...</td>\n",
       "      <td>...</td>\n",
       "      <td>...</td>\n",
       "    </tr>\n",
       "    <tr>\n",
       "      <th>19256</th>\n",
       "      <td>1377786216331554</td>\n",
       "      <td>5506791996446109</td>\n",
       "      <td>-2270332348764612</td>\n",
       "      <td>The-Chat-Story Parytan romance</td>\n",
       "    </tr>\n",
       "    <tr>\n",
       "      <th>19257</th>\n",
       "      <td>1377786216331554</td>\n",
       "      <td>5506791996452498</td>\n",
       "      <td>-2270332348764612</td>\n",
       "      <td>The-Chat-Story Parytan romance</td>\n",
       "    </tr>\n",
       "    <tr>\n",
       "      <th>19258</th>\n",
       "      <td>1377786216331554</td>\n",
       "      <td>5506791996488561</td>\n",
       "      <td>-2270332348764612</td>\n",
       "      <td>The-Chat-Story Parytan romance</td>\n",
       "    </tr>\n",
       "    <tr>\n",
       "      <th>19259</th>\n",
       "      <td>1377786216331554</td>\n",
       "      <td>5506791996530857</td>\n",
       "      <td>-2270332348764612</td>\n",
       "      <td>The-Chat-Story Parytan romance</td>\n",
       "    </tr>\n",
       "    <tr>\n",
       "      <th>19260</th>\n",
       "      <td>1377786216331554</td>\n",
       "      <td>5506791996671730</td>\n",
       "      <td>-2270332348764612</td>\n",
       "      <td>The-Chat-Story Parytan romance</td>\n",
       "    </tr>\n",
       "  </tbody>\n",
       "</table>\n",
       "<p>3237 rows × 4 columns</p>\n",
       "</div>"
      ],
      "text/plain": [
       "           pratilipi_id           user_id         author_id  \\\n",
       "6639    979877554722504  3280684228977316 -3678460257170801   \n",
       "6640    979877554722504  3332846191551140 -3678460257170801   \n",
       "6641    979877554722504  3453645753852580 -3678460257170801   \n",
       "6642    979877554722504  3523322783376036 -3678460257170801   \n",
       "6643    979877554722504  3595524319388324 -3678460257170801   \n",
       "...                 ...               ...               ...   \n",
       "19256  1377786216331554  5506791996446109 -2270332348764612   \n",
       "19257  1377786216331554  5506791996452498 -2270332348764612   \n",
       "19258  1377786216331554  5506791996488561 -2270332348764612   \n",
       "19259  1377786216331554  5506791996530857 -2270332348764612   \n",
       "19260  1377786216331554  5506791996671730 -2270332348764612   \n",
       "\n",
       "                        category_name  \n",
       "6639                   social romance  \n",
       "6640                   social romance  \n",
       "6641                   social romance  \n",
       "6642                   social romance  \n",
       "6643                   social romance  \n",
       "...                               ...  \n",
       "19256  The-Chat-Story Parytan romance  \n",
       "19257  The-Chat-Story Parytan romance  \n",
       "19258  The-Chat-Story Parytan romance  \n",
       "19259  The-Chat-Story Parytan romance  \n",
       "19260  The-Chat-Story Parytan romance  \n",
       "\n",
       "[3237 rows x 4 columns]"
      ]
     },
     "execution_count": 40,
     "metadata": {},
     "output_type": "execute_result"
    }
   ],
   "source": [
    "tm_df2[tm_df2['pratilipi_id'].isin(rec_lst2)]"
   ]
  },
  {
   "cell_type": "code",
   "execution_count": null,
   "id": "7bdff97f",
   "metadata": {},
   "outputs": [],
   "source": []
  },
  {
   "cell_type": "code",
   "execution_count": null,
   "id": "44693d25",
   "metadata": {},
   "outputs": [],
   "source": []
  },
  {
   "cell_type": "code",
   "execution_count": null,
   "id": "7fddf1d3",
   "metadata": {},
   "outputs": [],
   "source": []
  },
  {
   "cell_type": "code",
   "execution_count": null,
   "id": "64463777",
   "metadata": {},
   "outputs": [],
   "source": []
  }
 ],
 "metadata": {
  "kernelspec": {
   "display_name": "Python 3",
   "language": "python",
   "name": "python3"
  },
  "language_info": {
   "codemirror_mode": {
    "name": "ipython",
    "version": 3
   },
   "file_extension": ".py",
   "mimetype": "text/x-python",
   "name": "python",
   "nbconvert_exporter": "python",
   "pygments_lexer": "ipython3",
   "version": "3.7.10"
  }
 },
 "nbformat": 4,
 "nbformat_minor": 5
}
